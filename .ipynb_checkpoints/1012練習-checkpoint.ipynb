{
 "cells": [
  {
   "cell_type": "code",
   "execution_count": 4,
   "id": "7439effe",
   "metadata": {},
   "outputs": [
    {
     "name": "stdout",
     "output_type": "stream",
     "text": [
      "['19萬6,233人', '19萬5,618人', '9萬5,498人', '9萬2,018人', '6萬8,179人', '5萬5,502人']\n"
     ]
    }
   ],
   "source": [
    "import re\n",
    "text = \"111學年度臺閩地區在學人口約410萬人，各級學校總數計1萬1,106所，與102學年度比較，9學年間學校數減少320所，減幅為2.8％；教師數減少0.4％、學生數減少15.6％，每位教師教導學生數呈逐年下降趨勢，目前為13.6人，9學年間減少2.4人，顯示學生享有更佳的教學品質。其次，就學校密度而言，平均每千方公里校數達307所，9學年間減少8.9所。111學年度各級學校校數及學生數如附表24，我國教育發展概況如附表25。升學管道的日益暢通，也提高學生的升學率，110學年度國中畢業生人數計19萬6,233人，繼續升學者計19萬5,618人，升學率為99.7％；高級中等學校普通科及綜合高中畢業生計9萬5,498人，繼續升學者計9萬2,018人，升學率為96.4％；專業群科畢業生計6萬8,179人，繼續升學者計5萬5,502人，升學率為81.4％。\"\n",
    "pattern = r'\\d{1,3}萬\\d{1,3}(?:,\\d{3})*(?:\\.\\d+)?人'\n",
    "match = re.findall(pattern, text)\n",
    "print(match)"
   ]
  },
  {
   "cell_type": "code",
   "execution_count": null,
   "id": "cad42ba2",
   "metadata": {},
   "outputs": [],
   "source": [
    "資料來源：https://www.ey.gov.tw/state/7F30E01184C37F0E/130f6b11-b1d8-445c-859f-470e79e4ac15"
   ]
  }
 ],
 "metadata": {
  "kernelspec": {
   "display_name": "Python 3 (ipykernel)",
   "language": "python",
   "name": "python3"
  },
  "language_info": {
   "codemirror_mode": {
    "name": "ipython",
    "version": 3
   },
   "file_extension": ".py",
   "mimetype": "text/x-python",
   "name": "python",
   "nbconvert_exporter": "python",
   "pygments_lexer": "ipython3",
   "version": "3.11.4"
  }
 },
 "nbformat": 4,
 "nbformat_minor": 5
}
