{
 "cells": [
  {
   "cell_type": "code",
   "execution_count": 6,
   "id": "83bfc426",
   "metadata": {},
   "outputs": [],
   "source": [
    "import pandas as pd\n",
    "\n",
    "# 設定 CSV 檔案的路徑\n",
    "csv_file_path_PL = 'PL.csv'\n",
    "csv_file_path_WEB = 'WEB.csv'\n",
    "\n",
    "# 使用 pandas 的 read_csv 函式讀取 CSV 檔案並將其轉換為 DataFrame\n",
    "df_PL = pd.read_csv(csv_file_path_PL)\n",
    "df_WEB = pd.read_csv(csv_file_path_WEB)"
   ]
  },
  {
   "cell_type": "code",
   "execution_count": 7,
   "id": "3ca82dde",
   "metadata": {},
   "outputs": [],
   "source": [
    "# 從 DataFrame 中取出學生名稱欄位，假設欄位名稱為 '學生名稱'，你可以根據實際情況調整\n",
    "student_names_PL = df_PL['姓名']\n",
    "student_names_WEB = df_WEB['姓名']\n",
    "\n",
    "\n",
    "# 將學生名稱轉換為 set 資料型態\n",
    "student_names_PL_set = set(student_names_PL)\n",
    "student_names_WEB_set = set(student_names_WEB)\n",
    "\n",
    "#同時選了PECU的程式語言和網際網路概論的學生是哪幾位"
   ]
  },
  {
   "cell_type": "code",
   "execution_count": 8,
   "id": "0e1df0fe",
   "metadata": {},
   "outputs": [
    {
     "data": {
      "text/plain": [
       "{'余永興',\n",
       " '劉彥谷',\n",
       " '李勻歆',\n",
       " '李怡安',\n",
       " '李騰騏',\n",
       " '林冠秀',\n",
       " '梁巍瀚',\n",
       " '楊芸蓁',\n",
       " '游建佑',\n",
       " '溫苡含',\n",
       " '潘柔玉',\n",
       " '許瑋庭',\n",
       " '鄭銘霆',\n",
       " '陳俊翰',\n",
       " '陳芊伃',\n",
       " '黃品嘉'}"
      ]
     },
     "execution_count": 8,
     "metadata": {},
     "output_type": "execute_result"
    }
   ],
   "source": [
    "student_names_PL_set & student_names_WEB_set"
   ]
  },
  {
   "cell_type": "code",
   "execution_count": null,
   "id": "9c8f77e9",
   "metadata": {},
   "outputs": [],
   "source": []
  }
 ],
 "metadata": {
  "kernelspec": {
   "display_name": "Python 3 (ipykernel)",
   "language": "python",
   "name": "python3"
  },
  "language_info": {
   "codemirror_mode": {
    "name": "ipython",
    "version": 3
   },
   "file_extension": ".py",
   "mimetype": "text/x-python",
   "name": "python",
   "nbconvert_exporter": "python",
   "pygments_lexer": "ipython3",
   "version": "3.11.4"
  }
 },
 "nbformat": 4,
 "nbformat_minor": 5
}
