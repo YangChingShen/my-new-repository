{
 "cells": [
  {
   "cell_type": "code",
   "execution_count": 6,
   "id": "ac14c231",
   "metadata": {},
   "outputs": [],
   "source": [
    "import pandas as pd\n",
    "\n",
    "# 設定 CSV 檔案的路徑\n",
    "csv_file_path_PL = 'PL.csv'\n",
    "csv_file_path_WEB = 'WEB.csv'\n",
    "\n",
    "# 使用 pandas 的 read_csv 函式讀取 CSV 檔案並將其轉換為 DataFrame\n",
    "df_PL = pd.read_csv(csv_file_path_PL)\n",
    "df_WEB = pd.read_csv(csv_file_path_WEB)"
   ]
  },
  {
   "cell_type": "code",
   "execution_count": 7,
   "id": "400e7119",
   "metadata": {},
   "outputs": [],
   "source": [
    "# 從 DataFrame 中取出學生名稱欄位，假設欄位名稱為 '學生名稱'，你可以根據實際情況調整\n",
    "student_names_PL = df_PL['姓名']\n",
    "student_names_WEB = df_WEB['姓名']\n",
    "\n",
    "\n",
    "# 將學生名稱轉換為 set 資料型態\n",
    "student_names_PL_set = set(student_names_PL)\n",
    "student_names_WEB_set = set(student_names_WEB)\n",
    "\n",
    "#同時選了PECU的程式語言和網際網路概論的學生是哪幾位"
   ]
  },
  {
   "cell_type": "code",
   "execution_count": 9,
   "id": "29fdace3",
   "metadata": {},
   "outputs": [
    {
     "data": {
      "text/plain": [
       "{'劉禹岑',\n",
       " '吳孟涵',\n",
       " '吳宜庭',\n",
       " '安珮均',\n",
       " '張亞璇',\n",
       " '張哲睿',\n",
       " '張育瑞',\n",
       " '李承恩',\n",
       " '林世軒',\n",
       " '林庭妤',\n",
       " '林立涵',\n",
       " '楊景娠',\n",
       " '莊孟喬',\n",
       " '葉子瑜',\n",
       " '蔡宜柔',\n",
       " '蔡芸琤',\n",
       " '蔡馨雅',\n",
       " '許菡容',\n",
       " '邱竹銥',\n",
       " '郭瀚文',\n",
       " '陳怡珮',\n",
       " '陳柔伊',\n",
       " '陳翰駿',\n",
       " '黃品晴',\n",
       " '黃敏智',\n",
       " '黃紫馨',\n",
       " '黃順源'}"
      ]
     },
     "execution_count": 9,
     "metadata": {},
     "output_type": "execute_result"
    }
   ],
   "source": [
    "student_names_PL_set - student_names_WEB_set"
   ]
  },
  {
   "cell_type": "code",
   "execution_count": null,
   "id": "cd050afe",
   "metadata": {},
   "outputs": [],
   "source": []
  }
 ],
 "metadata": {
  "kernelspec": {
   "display_name": "Python 3 (ipykernel)",
   "language": "python",
   "name": "python3"
  },
  "language_info": {
   "codemirror_mode": {
    "name": "ipython",
    "version": 3
   },
   "file_extension": ".py",
   "mimetype": "text/x-python",
   "name": "python",
   "nbconvert_exporter": "python",
   "pygments_lexer": "ipython3",
   "version": "3.11.4"
  }
 },
 "nbformat": 4,
 "nbformat_minor": 5
}
